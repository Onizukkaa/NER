{
 "cells": [
  {
   "cell_type": "code",
   "execution_count": 1,
   "id": "6bd25b2d",
   "metadata": {},
   "outputs": [
    {
     "name": "stderr",
     "output_type": "stream",
     "text": [
      "[nltk_data] Downloading package punkt to\n",
      "[nltk_data]     C:\\Users\\utilisateur\\AppData\\Roaming\\nltk_data...\n",
      "[nltk_data]   Package punkt is already up-to-date!\n"
     ]
    }
   ],
   "source": [
    "import nltk\n",
    "import re\n",
    "nltk.download('punkt')\n",
    "from nltk.tokenize import word_tokenize\n",
    "from gensim.models import Word2Vec\n",
    "from sklearn.decomposition import PCA\n",
    "import matplotlib.pyplot as plt"
   ]
  },
  {
   "cell_type": "code",
   "execution_count": 4,
   "id": "50043b39",
   "metadata": {},
   "outputs": [
    {
     "name": "stdout",
     "output_type": "stream",
     "text": [
      "Number of sentences 9\n",
      "First sentence from text file \n",
      " The United States of America (U.S.A. or USA), commonly known as the United States (U.S. or US) or America, is a country primarily located in North America. It consists of 50 states, a federal district, five major unincorporated territories, 326 Indian reservations, and some minor possessions.[j] At 3.8 million square miles (9.8 million square kilometers), it is the world's third- or fourth-largest country by total area.[d] The United States shares significant land borders with Canada to the north and Mexico to the south, as well as limited maritime borders with the Bahamas, Cuba, and Russia.[22] With a population of more than 331 million people, it is the third most populous country in the world. The national capital is Washington, D.C., and the most populous city is New York.\n",
      "\n"
     ]
    }
   ],
   "source": [
    "with open(\"wiki_us.txt\",'r', encoding='utf-8') as txt:\n",
    "    sentences = txt.readlines()\n",
    "    \n",
    "\n",
    "\n",
    "print(f\"Number of sentences {len(sentences)}\")\n",
    "\n",
    "print(f\"First sentence from text file \\n {sentences[0]}\")"
   ]
  },
  {
   "cell_type": "code",
   "execution_count": 5,
   "id": "574144c4",
   "metadata": {},
   "outputs": [
    {
     "name": "stdout",
     "output_type": "stream",
     "text": [
      "Second \n",
      " The United States of America (U.S.A. or USA), commonly known as the United States (U.S. or US) or America, is a country primarily located in North America. It consists of 50 states, a federal district, five major unincorporated territories, 326 Indian reservations, and some minor possessions.[j] At 3.8 million square miles (9.8 million square kilometers), it is the world's third- or fourth-largest country by total area.[d] The United States shares significant land borders with Canada to the north and Mexico to the south, as well as limited maritime borders with the Bahamas, Cuba, and Russia.[22] With a population of more than 331 million people, it is the third most populous country in the world. The national capital is Washington, D.C., and the most populous city is New York.\n",
      "\n",
      "Second sentence from text file \n",
      " The United States of America  U S A  or USA   commonly known as the United States  U S  or US  or America  is a country primarily located in North America  It consists of    states  a federal district  five major unincorporated territories      Indian reservations  and some minor possessions  j  At     million square miles      million square kilometers   it is the world s third  or fourth largest country by total area  d  The United States shares significant land borders with Canada to the north and Mexico to the south  as well as limited maritime borders with the Bahamas  Cuba  and Russia      With a population of more than     million people  it is the third most populous country in the world  The national capital is Washington  D C   and the most populous city is New York  \n"
     ]
    }
   ],
   "source": [
    "print(f\"Second \\n {sentences[0]}\")\n",
    "\n",
    "for index in range(len(sentences)):\n",
    "    sentences[index] = re.sub(\"[^a-zA-Z]\",\" \", str(sentences[index]))\n",
    "    \n",
    "print(f\"Second sentence from text file \\n {sentences[0]}\")"
   ]
  },
  {
   "cell_type": "code",
   "execution_count": 6,
   "id": "fd0d4a44",
   "metadata": {},
   "outputs": [
    {
     "name": "stdout",
     "output_type": "stream",
     "text": [
      "First sentence from text file \n",
      " ['The', 'United', 'States', 'of', 'America', 'U', 'S', 'A', 'or', 'USA', 'commonly', 'known', 'as', 'the', 'United', 'States', 'U', 'S', 'or', 'US', 'or', 'America', 'is', 'a', 'country', 'primarily', 'located', 'in', 'North', 'America', 'It', 'consists', 'of', 'states', 'a', 'federal', 'district', 'five', 'major', 'unincorporated', 'territories', 'Indian', 'reservations', 'and', 'some', 'minor', 'possessions', 'j', 'At', 'million', 'square', 'miles', 'million', 'square', 'kilometers', 'it', 'is', 'the', 'world', 's', 'third', 'or', 'fourth', 'largest', 'country', 'by', 'total', 'area', 'd', 'The', 'United', 'States', 'shares', 'significant', 'land', 'borders', 'with', 'Canada', 'to', 'the', 'north', 'and', 'Mexico', 'to', 'the', 'south', 'as', 'well', 'as', 'limited', 'maritime', 'borders', 'with', 'the', 'Bahamas', 'Cuba', 'and', 'Russia', 'With', 'a', 'population', 'of', 'more', 'than', 'million', 'people', 'it', 'is', 'the', 'third', 'most', 'populous', 'country', 'in', 'the', 'world', 'The', 'national', 'capital', 'is', 'Washington', 'D', 'C', 'and', 'the', 'most', 'populous', 'city', 'is', 'New', 'York']\n"
     ]
    }
   ],
   "source": [
    "word_tokenizer = []\n",
    "for sent in sentences:\n",
    "    word_tokens = word_tokenize(sent)\n",
    "    word_tokenizer.append(word_tokens)\n",
    "    \n",
    "print(f\"First sentence from text file \\n {word_tokenizer[0]}\")"
   ]
  },
  {
   "cell_type": "code",
   "execution_count": 8,
   "id": "28614d20",
   "metadata": {},
   "outputs": [
    {
     "name": "stdout",
     "output_type": "stream",
     "text": [
      "Total number of words 63\n",
      "['the', 'of', 'and', 'a', 'is', 'United', 'States', 'The', 'in', 'War', 'world', 'country', 's', 'to', 'as', 'largest', 'by', 'with', 'it', 'American', 'S', 'America', 'U', 'or', 'total', 'military', 'population', 'North', 'World', 'million', 'th', 'century', 'established', 'has', 'It', 'its', 'third', 'Soviet', 'Nations', 'Union', 'member', 'federal', 'international', 'high', 'states', 'second', 'territories', 'most', 'led', 'political', 'began', 'from', 'capital', 'populous', 'than', 'Cold', 'more', 'wealth', 'borders', 'new', 'power', 'square', 'global']\n"
     ]
    },
    {
     "data": {
      "text/plain": [
       "array([[-2.07128916e-02,  1.88025497e-02],\n",
       "       [ 2.58897781e-01,  4.60219502e-01],\n",
       "       [-4.61873800e-01, -3.45615566e-01],\n",
       "       [ 3.22566777e-01,  4.50737208e-01],\n",
       "       [-2.47558340e-01, -1.81219295e-01],\n",
       "       [ 3.69640648e-01, -7.35363811e-02],\n",
       "       [-2.25857228e-01,  3.28645557e-01],\n",
       "       [-2.40683198e-01, -8.87840986e-02],\n",
       "       [ 1.46887690e-01,  5.28025255e-02],\n",
       "       [-4.12871510e-01, -4.68649894e-01],\n",
       "       [ 3.68163228e-01,  2.57369757e-01],\n",
       "       [ 3.39388162e-01,  4.42387350e-02],\n",
       "       [ 3.21730524e-01, -1.67285740e-01],\n",
       "       [-4.62105796e-02,  2.89348871e-01],\n",
       "       [-3.74888033e-01, -1.95416480e-01],\n",
       "       [-3.75946164e-01, -4.33448032e-02],\n",
       "       [ 4.78054106e-01, -3.63248736e-01],\n",
       "       [-1.16009764e-01, -9.49834585e-02],\n",
       "       [ 4.04676199e-01, -2.94679552e-01],\n",
       "       [ 4.07236908e-03, -2.33279884e-01],\n",
       "       [-4.79053795e-01,  2.52652824e-01],\n",
       "       [-4.37373221e-01, -2.17763543e-01],\n",
       "       [-7.89436162e-05, -1.27917798e-02],\n",
       "       [-3.83891553e-01,  4.83435273e-01],\n",
       "       [ 2.51004487e-01,  4.65809047e-01],\n",
       "       [-4.05858159e-01,  2.29563937e-01],\n",
       "       [-2.06188709e-01,  4.40408327e-02],\n",
       "       [ 4.24841136e-01, -2.21709326e-01],\n",
       "       [ 2.26071671e-01, -3.38254362e-01],\n",
       "       [-1.76483989e-01,  4.70366985e-01],\n",
       "       [-7.78082982e-02,  1.59718972e-02],\n",
       "       [-2.06469178e-01, -3.80555481e-01],\n",
       "       [-7.43408650e-02,  1.26716688e-01],\n",
       "       [-4.29708175e-02,  2.83433765e-01],\n",
       "       [-1.36332199e-01,  1.12217538e-01],\n",
       "       [ 2.75197268e-01,  4.21523929e-01],\n",
       "       [-7.16858134e-02, -4.57268149e-01],\n",
       "       [ 2.19309449e-01,  2.86187623e-02],\n",
       "       [ 3.72292340e-01, -3.81891094e-02],\n",
       "       [-1.30809814e-01, -4.36489075e-01],\n",
       "       [-4.23325524e-02,  1.43600360e-01],\n",
       "       [ 2.71186620e-01,  3.55033994e-01],\n",
       "       [-2.84429222e-01,  9.63145196e-02],\n",
       "       [ 3.05215985e-01, -2.37800017e-01],\n",
       "       [-1.52982324e-01,  3.41817945e-01],\n",
       "       [ 8.44161287e-02,  9.98964626e-03],\n",
       "       [ 1.74096271e-01,  1.05819590e-02],\n",
       "       [ 4.83234286e-01,  2.57427752e-01],\n",
       "       [-4.45055962e-01, -3.51297677e-01],\n",
       "       [ 4.48245816e-02,  3.20525438e-01],\n",
       "       [-4.29774523e-01,  1.85063884e-01],\n",
       "       [ 2.59178847e-01,  2.89750606e-01],\n",
       "       [ 3.73821855e-01, -3.07082951e-01],\n",
       "       [ 5.61637767e-02,  3.05695385e-01],\n",
       "       [-1.42271042e-01, -3.08512151e-01],\n",
       "       [-1.98783875e-02, -4.15408343e-01],\n",
       "       [-2.79024094e-01,  3.59360397e-01],\n",
       "       [ 1.67923048e-01,  3.62401932e-01],\n",
       "       [ 3.38981390e-01,  3.78720403e-01],\n",
       "       [-1.88512534e-01, -2.77083684e-02],\n",
       "       [ 1.18772537e-01, -2.21839994e-01],\n",
       "       [ 4.19878364e-01, -4.92781430e-01],\n",
       "       [ 3.38449478e-01,  1.46133065e-01]], dtype=float32)"
      ]
     },
     "execution_count": 8,
     "metadata": {},
     "output_type": "execute_result"
    }
   ],
   "source": [
    "from gensim.models import Word2Vec\n",
    "model_cbow = Word2Vec(sentences=word_tokenizer,\n",
    "                     vector_size=2,#number dimension default 100\n",
    "                     window=2, #default 5\n",
    "                     min_count=2, #mini count words to be consider default 5\n",
    "                     workers=1, #default 3\n",
    "                     sg=0 #0 for CBOW, 1 SKIP-Gram\n",
    "                     )\n",
    "\n",
    "words_cbow = list(model_cbow.wv.index_to_key)\n",
    "print(f\"Total number of words {len(words_cbow)}\")\n",
    "print(words_cbow)\n",
    "\n",
    "model_cbow.wv.__getitem__(model_cbow.wv.index_to_key)"
   ]
  },
  {
   "cell_type": "code",
   "execution_count": 13,
   "id": "fc943b14",
   "metadata": {},
   "outputs": [
    {
     "data": {
      "image/png": "[encoded data removed]",
      "text/plain": [
       "<Figure size 432x288 with 1 Axes>"
      ]
     },
     "metadata": {
      "needs_background": "light"
     },
     "output_type": "display_data"
    }
   ],
   "source": [
    "X = model_cbow.wv.__getitem__(model_cbow.wv.index_to_key)\n",
    "\n",
    "pca_model = PCA(n_components=2)\n",
    "result = pca_model.fit_transform(X)\n",
    "plt.scatter(result[:,0], result[:,1])\n",
    "words_cbow = list(model_cbow.wv.index_to_key)\n",
    "for i, word in enumerate(words_cbow[:100]):\n",
    "    plt.annotate(word,xy=(result[i,0], result[i,1]))\n",
    "plt.show()"
   ]
  },
  {
   "cell_type": "code",
   "execution_count": 14,
   "id": "1c6a7334",
   "metadata": {},
   "outputs": [
    {
     "name": "stdout",
     "output_type": "stream",
     "text": [
      "Total number of words 63\n",
      "[-0.42989433 -0.2179319 ]\n"
     ]
    }
   ],
   "source": [
    "from gensim.models import Word2Vec\n",
    "model_skip = Word2Vec(sentences=word_tokenizer,\n",
    "                     vector_size=2,\n",
    "                     window=2,\n",
    "                     min_count=2,\n",
    "                     workers=1,\n",
    "                     sg=1\n",
    "                     )\n",
    "\n",
    "words = list(model_skip.wv.key_to_index)\n",
    "print(f\"Total number of words {len(words)}\")\n",
    "\n",
    "print(model_skip.wv.__getitem__('America'))"
   ]
  },
  {
   "cell_type": "markdown",
   "id": "4b8bc97d",
   "metadata": {},
   "source": [
    "# Word2Vec avec Skip-Gram"
   ]
  },
  {
   "cell_type": "code",
   "execution_count": 15,
   "id": "60ca0c41",
   "metadata": {},
   "outputs": [],
   "source": [
    "from gensim.models import Word2Vec"
   ]
  },
  {
   "cell_type": "code",
   "execution_count": 16,
   "id": "447a38bb",
   "metadata": {},
   "outputs": [
    {
     "name": "stdout",
     "output_type": "stream",
     "text": [
      "Total number of words 24\n",
      "[-0.38858283  0.48585713]\n"
     ]
    }
   ],
   "source": [
    "model_skip = Word2Vec(sentences=word_tokenizer,\n",
    "                     vector_size=2,#number dimension default 100\n",
    "                     window=2, #default 5\n",
    "                     min_count=4, #mini count words to be consider default 5\n",
    "                     workers=1, #default 3\n",
    "                     sg=1 #0 for CBOW, 1 SKIP-Gram\n",
    "                     )\n",
    "\n",
    "words = list(model_skip.wv.key_to_index)\n",
    "print(f\"Total number of words {len(words)}\")\n",
    "\n",
    "wordembedding=model_skip.wv.__getitem__('America')\n",
    "print(wordembedding)"
   ]
  },
  {
   "cell_type": "code",
   "execution_count": 17,
   "id": "46704284",
   "metadata": {},
   "outputs": [
    {
     "data": {
      "image/png": "[encoded data removed]",
      "text/plain": [
       "<Figure size 432x288 with 1 Axes>"
      ]
     },
     "metadata": {
      "needs_background": "light"
     },
     "output_type": "display_data"
    }
   ],
   "source": [
    "X = model_skip.wv.__getitem__(model_skip.wv.index_to_key)\n",
    "\n",
    "pca_model = PCA(n_components=2)\n",
    "result = pca_model.fit_transform(X)\n",
    "plt.scatter(result[:,0], result[:,1])\n",
    "words_skip = list(model_skip.wv.index_to_key)\n",
    "for i, word in enumerate(words_skip[:100]):\n",
    "    plt.annotate(word,xy=(result[i,0], result[i,1]))\n",
    "plt.show()"
   ]
  },
  {
   "cell_type": "markdown",
   "id": "48eea768",
   "metadata": {},
   "source": [
    "# Google word2vec"
   ]
  },
  {
   "cell_type": "code",
   "execution_count": 18,
   "id": "cd50b228",
   "metadata": {},
   "outputs": [],
   "source": [
    "from gensim.models import KeyedVectors\n"
   ]
  },
  {
   "cell_type": "code",
   "execution_count": 20,
   "id": "4bc937b5",
   "metadata": {},
   "outputs": [],
   "source": [
    "filename=\"GoogleNews-vectors-negative300.bin.gz\"\n",
    "model=KeyedVectors.load_word2vec_format(filename,binary=True)"
   ]
  },
  {
   "cell_type": "code",
   "execution_count": 21,
   "id": "4ffae3ee",
   "metadata": {},
   "outputs": [
    {
     "name": "stdout",
     "output_type": "stream",
     "text": [
      "Result ? mark in the following sentences King-Man= ? - woman :-[('queen', 0.7118193507194519)]\n"
     ]
    }
   ],
   "source": [
    "#juste predict or word from king-man+women=?\n",
    "result=model.most_similar(positive=[\"woman\",\"king\"],negative=[\"man\"],topn=1)\n",
    "print(f\"Result ? mark in the following sentences King-Man= ? - woman :-{result}\")"
   ]
  },
  {
   "cell_type": "markdown",
   "id": "da1d0adc",
   "metadata": {},
   "source": [
    "# Standford Glove Embeddings"
   ]
  },
  {
   "cell_type": "code",
   "execution_count": null,
   "id": "38879d69",
   "metadata": {},
   "outputs": [],
   "source": []
  }
 ],
 "metadata": {
  "kernelspec": {
   "display_name": "Python 3 (ipykernel)",
   "language": "python",
   "name": "python3"
  },
  "language_info": {
   "codemirror_mode": {
    "name": "ipython",
    "version": 3
   },
   "file_extension": ".py",
   "mimetype": "text/x-python",
   "name": "python",
   "nbconvert_exporter": "python",
   "pygments_lexer": "ipython3",
   "version": "3.8.12"
  }
 },
 "nbformat": 4,
 "nbformat_minor": 5
}
